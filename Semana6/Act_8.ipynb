{
  "nbformat": 4,
  "nbformat_minor": 0,
  "metadata": {
    "colab": {
      "provenance": [],
      "authorship_tag": "ABX9TyOWWoj4QUm6RUQXki7JWTnt",
      "include_colab_link": true
    },
    "kernelspec": {
      "name": "python3",
      "display_name": "Python 3"
    },
    "language_info": {
      "name": "python"
    }
  },
  "cells": [
    {
      "cell_type": "markdown",
      "metadata": {
        "id": "view-in-github",
        "colab_type": "text"
      },
      "source": [
        "<a href=\"https://colab.research.google.com/github/Mayx-Pardo/079PBAS/blob/main/Semana6/Act_8.ipynb\" target=\"_parent\"><img src=\"https://colab.research.google.com/assets/colab-badge.svg\" alt=\"Open In Colab\"/></a>"
      ]
    },
    {
      "cell_type": "code",
      "source": [
        "cadena = str(input(\"Ingrese una cadena de caracteres: \").lower())\n",
        "def contadordevocales(cadena):\n",
        "  a = str(\"a\")\n",
        "  e = str(\"e\")\n",
        "  i = str(\"i\")\n",
        "  o = str(\"o\")\n",
        "  u = str(\"u\")\n",
        "  vocales = (a, e,i ,o, u)\n",
        "  b = 0\n",
        "  c = 0\n",
        "  d = 0\n",
        "  f = 0\n",
        "  g = 0\n",
        "  dict = {}\n",
        "  for j in cadena:\n",
        "    if j in a:\n",
        "      b += 1\n",
        "      dict.update({\"a\": b})\n",
        "  for j in cadena:\n",
        "    if j in e:\n",
        "      c += 1\n",
        "      dict.update({\"e\": c})\n",
        "  for j in cadena:\n",
        "    if j in i:\n",
        "      d += 1\n",
        "      dict.update({\"i\": d})\n",
        "  for j in cadena:\n",
        "    if j in o:\n",
        "      f += 1\n",
        "      dict.update({\"o\": f})\n",
        "  for j in cadena:\n",
        "    if j in u:\n",
        "      g += 1\n",
        "      dict.update({\"u\": g})\n",
        "  for j in cadena:\n",
        "    if j in vocales:\n",
        "      dict = {\"a\": b,\"e\": c, \"i\": d, \"o\": f, \"u\": g}\n",
        "  return dict\n",
        "print(contadordevocales(cadena))\n",
        "print(contadordevocales(\"murcielago\"))\n",
        "print(contadordevocales(\"eucalipto\"))\n",
        "print(contadordevocales(\"albericoque\"))"
      ],
      "metadata": {
        "colab": {
          "base_uri": "https://localhost:8080/"
        },
        "id": "cuEjn5LMSb7j",
        "outputId": "2f3d6456-d2e0-4057-d54f-b0d143bc6912"
      },
      "execution_count": null,
      "outputs": [
        {
          "output_type": "stream",
          "name": "stdout",
          "text": [
            "Ingrese una cadena de caracteres: Cadena\n",
            "{'a': 2, 'e': 1, 'i': 0, 'o': 0, 'u': 0}\n",
            "{'a': 1, 'e': 1, 'i': 1, 'o': 1, 'u': 1}\n",
            "{'a': 1, 'e': 1, 'i': 1, 'o': 1, 'u': 1}\n",
            "{'a': 1, 'e': 2, 'i': 1, 'o': 1, 'u': 1}\n"
          ]
        }
      ]
    }
  ]
}