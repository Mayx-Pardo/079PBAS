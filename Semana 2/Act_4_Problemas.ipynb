{
  "nbformat": 4,
  "nbformat_minor": 0,
  "metadata": {
    "colab": {
      "provenance": [],
      "collapsed_sections": [
        "OWfcAOzcymoQ",
        "0ODCv6K5zHkn",
        "9Vymuh23z_ZW",
        "UqsuvL8z0BTy",
        "8Ozzus790BoN"
      ],
      "toc_visible": true,
      "authorship_tag": "ABX9TyNt3POUGySq3lOSLrLbqE7y",
      "include_colab_link": true
    },
    "kernelspec": {
      "name": "python3",
      "display_name": "Python 3"
    },
    "language_info": {
      "name": "python"
    }
  },
  "cells": [
    {
      "cell_type": "markdown",
      "metadata": {
        "id": "view-in-github",
        "colab_type": "text"
      },
      "source": [
        "<a href=\"https://colab.research.google.com/github/Mayx-Pardo/079PBAS/blob/main/Semana%202/Act_4_Problemas.ipynb\" target=\"_parent\"><img src=\"https://colab.research.google.com/assets/colab-badge.svg\" alt=\"Open In Colab\"/></a>"
      ]
    },
    {
      "cell_type": "markdown",
      "source": [
        "# Problema 1"
      ],
      "metadata": {
        "id": "OWfcAOzcymoQ"
      }
    },
    {
      "cell_type": "markdown",
      "source": [],
      "metadata": {
        "id": "_1_XJZg5yt1R"
      }
    },
    {
      "cell_type": "code",
      "source": [
        "#Problema 1\n",
        "print(\"Hola mundo\")"
      ],
      "metadata": {
        "colab": {
          "base_uri": "https://localhost:8080/"
        },
        "id": "3u4xc0T_zl9C",
        "outputId": "50688d88-6af0-4240-d1ec-f524853588be"
      },
      "execution_count": 12,
      "outputs": [
        {
          "output_type": "stream",
          "name": "stdout",
          "text": [
            "Hola mundo\n"
          ]
        }
      ]
    },
    {
      "cell_type": "markdown",
      "source": [
        "# Problema 2"
      ],
      "metadata": {
        "id": "0ODCv6K5zHkn"
      }
    },
    {
      "cell_type": "code",
      "source": [
        "#Problema 2\n",
        "a= int( input (\"Ingresa un número\"))\n",
        "b= int( input (\"Ingresa otro número\"))\n",
        "\n",
        "print(a*b)\n",
        "print(a/b)\n",
        "print(a+b)\n",
        "print(a-b)"
      ],
      "metadata": {
        "colab": {
          "base_uri": "https://localhost:8080/"
        },
        "id": "M5hQhBXpzUxP",
        "outputId": "ab55345a-388f-49e2-a321-d009e5722641"
      },
      "execution_count": 49,
      "outputs": [
        {
          "output_type": "stream",
          "name": "stdout",
          "text": [
            "Ingresa un número21\n",
            "Ingresa otro número7\n",
            "147\n",
            "3.0\n",
            "28\n",
            "14\n"
          ]
        }
      ]
    },
    {
      "cell_type": "markdown",
      "source": [
        "# Problema 3"
      ],
      "metadata": {
        "id": "9Vymuh23z_ZW"
      }
    },
    {
      "cell_type": "code",
      "source": [
        "a=int(input(\"Ingrese un numero\"))\n",
        "factorial= a*(a-1)\n",
        "print(\"factorial:\", factorial)"
      ],
      "metadata": {
        "colab": {
          "base_uri": "https://localhost:8080/"
        },
        "id": "y_-VUVqy65U9",
        "outputId": "35eba4d0-f624-425b-c982-c98425bf1166"
      },
      "execution_count": 36,
      "outputs": [
        {
          "output_type": "stream",
          "name": "stdout",
          "text": [
            "Ingrese un numero3\n",
            "factorial: 6\n"
          ]
        }
      ]
    },
    {
      "cell_type": "markdown",
      "source": [
        "# Problema 4"
      ],
      "metadata": {
        "id": "UqsuvL8z0BTy"
      }
    },
    {
      "cell_type": "code",
      "source": [],
      "metadata": {
        "id": "iS_eRQvo_OmP"
      },
      "execution_count": null,
      "outputs": []
    },
    {
      "cell_type": "code",
      "source": [
        "a= int(input(\"Ingresa un número\"))\n",
        "b= int(input(\"Ingresa otro número\"))\n",
        "if (a!=0 or a!=1):\n",
        "  c=a+b\n",
        "  print(\"La suma es:\", c)\n"
      ],
      "metadata": {
        "colab": {
          "base_uri": "https://localhost:8080/"
        },
        "id": "6NK6vQvT30b3",
        "outputId": "1f95d74f-47fe-47d6-b2b0-e28374233a2f"
      },
      "execution_count": 80,
      "outputs": [
        {
          "output_type": "stream",
          "name": "stdout",
          "text": [
            "Ingresa un número2\n",
            "Ingresa otro número10\n",
            "La suma es: 12\n"
          ]
        }
      ]
    },
    {
      "cell_type": "markdown",
      "source": [
        "# Problema 5"
      ],
      "metadata": {
        "id": "8Ozzus790BoN"
      }
    },
    {
      "cell_type": "code",
      "source": [
        "a= int(input(\"Ingrese un número\"))\n",
        "primo= True\n",
        "for i in range (1, a):\n",
        "  if (a/i==0):\n",
        "    primo= False\n",
        "    break\n",
        "if (primo):\n",
        "  print(\"Es primo\")\n",
        "else:\n",
        "      print(\"No es primo\")\n"
      ],
      "metadata": {
        "colab": {
          "base_uri": "https://localhost:8080/"
        },
        "id": "nyKEucoHKdzu",
        "outputId": "a0c2d0cf-38d2-41f7-a405-1954e66e2e5e"
      },
      "execution_count": 97,
      "outputs": [
        {
          "output_type": "stream",
          "name": "stdout",
          "text": [
            "Ingrese un número5\n",
            "Es primo\n"
          ]
        }
      ]
    },
    {
      "cell_type": "markdown",
      "source": [
        "# Problema 6"
      ],
      "metadata": {
        "id": "1fDNaSOq0Ckd"
      }
    },
    {
      "cell_type": "markdown",
      "source": [
        "# Problema 7"
      ],
      "metadata": {
        "id": "XYtiB2tQ0C3_"
      }
    },
    {
      "cell_type": "code",
      "source": [
        "a= int(input(\"Ingrese un número\"))\n",
        "b= int(input(\"Ingrese otro número\"))\n",
        "if (a%2==0 and b%2==0):\n",
        "  print(\"Los números son par\")\n",
        "else:\n",
        "  print(\"Los números no son par\")\n",
        "if (a % b==0):\n",
        "  print(\"El primer número es múltiplo del segundo\")\n",
        "else:\n",
        "  print(\"El primer número no es múltiplo del segundo\")"
      ],
      "metadata": {
        "colab": {
          "base_uri": "https://localhost:8080/"
        },
        "id": "E2D-nbugSX5w",
        "outputId": "c196f52e-0bf2-40db-e095-0ea19ee5f5b0"
      },
      "execution_count": 108,
      "outputs": [
        {
          "output_type": "stream",
          "name": "stdout",
          "text": [
            "Ingrese un número15\n",
            "Ingrese otro número5\n",
            "Los números no son par\n",
            "El primer número es múltiplo del segundo\n"
          ]
        }
      ]
    },
    {
      "cell_type": "markdown",
      "source": [
        "# Problema 8\n"
      ],
      "metadata": {
        "id": "wv8LXmLl0DLt"
      }
    },
    {
      "cell_type": "code",
      "source": [
        "radio= int(input(\"Ingrese el radio del círculo\"))\n",
        "PI=3.14\n",
        "A=PI*(radio**2)\n",
        "print(\"El área del círculo es:\", A)\n",
        "C=2*radio*PI\n",
        "print(\"La circunferencia del círculo es:\", C)"
      ],
      "metadata": {
        "colab": {
          "base_uri": "https://localhost:8080/"
        },
        "id": "sJa928XoSyrS",
        "outputId": "58c8716d-f319-4326-8e56-48474fc62e23"
      },
      "execution_count": 117,
      "outputs": [
        {
          "output_type": "stream",
          "name": "stdout",
          "text": [
            "Ingrese el radio del círculo6\n",
            "El área del círculo es: 113.04\n",
            "La circunferencia del círculo es: 37.68\n"
          ]
        }
      ]
    },
    {
      "cell_type": "markdown",
      "source": [
        "# Problema 9\n"
      ],
      "metadata": {
        "id": "0Znk1Efa0DhR"
      }
    },
    {
      "cell_type": "code",
      "source": [
        "a=int(input(\"Ingrese un número\"))\n",
        "Lista= list([1,3,5])\n",
        "Listb= list([2,4,6])\n",
        "if (a%2==0):\n",
        "  Listb.append(a)\n",
        "  print(Listb)\n",
        "else:\n",
        "  Lista.append(a)\n",
        "  print(Lista)"
      ],
      "metadata": {
        "colab": {
          "base_uri": "https://localhost:8080/"
        },
        "id": "4xJgw2h5d0wN",
        "outputId": "191c8c15-8c29-4fc6-ec2d-102714ac27e3"
      },
      "execution_count": 156,
      "outputs": [
        {
          "output_type": "stream",
          "name": "stdout",
          "text": [
            "Ingrese un número7\n",
            "[1, 3, 5, 7]\n"
          ]
        }
      ]
    }
  ]
}