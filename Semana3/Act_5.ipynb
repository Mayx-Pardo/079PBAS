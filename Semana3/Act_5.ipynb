{
  "nbformat": 4,
  "nbformat_minor": 0,
  "metadata": {
    "colab": {
      "provenance": [],
      "authorship_tag": "ABX9TyN7aI9IQAZygCSepOqhNoD/",
      "include_colab_link": true
    },
    "kernelspec": {
      "name": "python3",
      "display_name": "Python 3"
    },
    "language_info": {
      "name": "python"
    }
  },
  "cells": [
    {
      "cell_type": "markdown",
      "metadata": {
        "id": "view-in-github",
        "colab_type": "text"
      },
      "source": [
        "<a href=\"https://colab.research.google.com/github/Mayx-Pardo/079PBAS/blob/main/Semana3/Act_5.ipynb\" target=\"_parent\"><img src=\"https://colab.research.google.com/assets/colab-badge.svg\" alt=\"Open In Colab\"/></a>"
      ]
    },
    {
      "cell_type": "markdown",
      "source": [
        "# Problema 6"
      ],
      "metadata": {
        "id": "wVZ5J52WJduM"
      }
    },
    {
      "cell_type": "code",
      "source": [
        "capital = int(input(\"Ingrese el capital\"))\n",
        "tiempo = int(input(\"Ingrese el tiempo en años\"))\n",
        "tasa = int(input(\"Ingrese una tasa de interés\"))\n",
        "\n",
        "compuesto = capital + (capital + (tasa * capital/100)\n",
        "print(compuesto)"
      ],
      "metadata": {
        "id": "FMNRfOVBYoEW"
      },
      "execution_count": null,
      "outputs": []
    },
    {
      "cell_type": "markdown",
      "source": [
        "# Problema 10"
      ],
      "metadata": {
        "id": "ZxwCzFyCJeNi"
      }
    },
    {
      "cell_type": "markdown",
      "source": [
        "# Problema 11"
      ],
      "metadata": {
        "id": "kTDAZ39ZJekx"
      }
    },
    {
      "cell_type": "markdown",
      "source": [
        "# Problema 12"
      ],
      "metadata": {
        "id": "XgIBF4CYJe4W"
      }
    },
    {
      "cell_type": "markdown",
      "source": [
        "# Problema 15"
      ],
      "metadata": {
        "id": "uon8w725JfN7"
      }
    },
    {
      "cell_type": "markdown",
      "source": [
        "# Problema 16"
      ],
      "metadata": {
        "id": "8kyM02y1Jfim"
      }
    },
    {
      "cell_type": "markdown",
      "source": [
        "# Problema 21"
      ],
      "metadata": {
        "id": "978VxA-sJf0m"
      }
    },
    {
      "cell_type": "markdown",
      "source": [
        "# Problema 24"
      ],
      "metadata": {
        "id": "7EvQud7RJgI0"
      }
    },
    {
      "cell_type": "markdown",
      "source": [
        "# Problema 25"
      ],
      "metadata": {
        "id": "gZGTzlYnJgc_"
      }
    },
    {
      "cell_type": "markdown",
      "source": [
        "# Problema 27"
      ],
      "metadata": {
        "id": "8nbxM57iJguU"
      }
    }
  ]
}