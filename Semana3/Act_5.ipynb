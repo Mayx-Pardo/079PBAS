{
  "nbformat": 4,
  "nbformat_minor": 0,
  "metadata": {
    "colab": {
      "provenance": [],
      "authorship_tag": "ABX9TyNSVcJAy+0IDYzxwU4LW4lo",
      "include_colab_link": true
    },
    "kernelspec": {
      "name": "python3",
      "display_name": "Python 3"
    },
    "language_info": {
      "name": "python"
    }
  },
  "cells": [
    {
      "cell_type": "markdown",
      "metadata": {
        "id": "view-in-github",
        "colab_type": "text"
      },
      "source": [
        "<a href=\"https://colab.research.google.com/github/Mayx-Pardo/079PBAS/blob/main/Semana3/Act_5.ipynb\" target=\"_parent\"><img src=\"https://colab.research.google.com/assets/colab-badge.svg\" alt=\"Open In Colab\"/></a>"
      ]
    },
    {
      "cell_type": "markdown",
      "source": [
        "# Problema 6"
      ],
      "metadata": {
        "id": "wVZ5J52WJduM"
      }
    },
    {
      "cell_type": "code",
      "source": [
        "capital = int(input(\"Ingrese el capital\"))\n",
        "tiempo = int(input(\"Ingrese el tiempo en años\"))\n",
        "tasa = int(input(\"Ingrese una tasa de interés\"))\n",
        "addanual = int(input(\"Ingrese la adquisición anual\"))\n",
        "compuesto = capital\n",
        "\n",
        "for i in range (tiempo):\n",
        "  compuesto= compuesto + addanual\n",
        "  compuesto = compuesto + (tasa * compuesto/100)\n",
        "\n",
        "print(compuesto)"
      ],
      "metadata": {
        "colab": {
          "base_uri": "https://localhost:8080/"
        },
        "id": "I8Un6CwfdAcD",
        "outputId": "7665cf1a-4432-44ec-def3-92ecad629743"
      },
      "execution_count": null,
      "outputs": [
        {
          "output_type": "stream",
          "name": "stdout",
          "text": [
            "Ingrese el capital500\n",
            "Ingrese el tiempo en años30\n",
            "Ingrese una tasa de interés10\n",
            "Ingrese la adquisición anual1000\n",
            "189668.12609219368\n"
          ]
        }
      ]
    },
    {
      "cell_type": "markdown",
      "source": [
        "# Problema 11"
      ],
      "metadata": {
        "id": "kTDAZ39ZJekx"
      }
    },
    {
      "cell_type": "code",
      "source": [
        "palabra = str(input(\"Ingrese una palabra\"))\n",
        "def es_palindromo(palabra):\n",
        "  if palabra == palabra[::-1]:\n",
        "    return True\n",
        "  else:\n",
        "    return False\n",
        "print(es_palindromo(palabra))"
      ],
      "metadata": {
        "colab": {
          "base_uri": "https://localhost:8080/"
        },
        "id": "zd72kWSViZnU",
        "outputId": "adeb7eda-9916-4cbb-8664-3863ec962dc9"
      },
      "execution_count": null,
      "outputs": [
        {
          "output_type": "stream",
          "name": "stdout",
          "text": [
            "Ingrese una palabraamor\n",
            "False\n"
          ]
        }
      ]
    },
    {
      "cell_type": "markdown",
      "source": [
        "# Problema 12"
      ],
      "metadata": {
        "id": "XgIBF4CYJe4W"
      }
    },
    {
      "cell_type": "code",
      "source": [
        "a= int(input(\"Ingrese el primer número\"))\n",
        "b= int(input(\"Ingrese el segundo número\"))\n",
        "c= int(input(\"Ingrese el tercer número\"))\n",
        "\n",
        "if a != b and a != c and b != c:\n",
        "  if a > b:\n",
        "    if a > c:\n",
        "      print(\"El número mayor es:\", a)\n",
        "    else:\n",
        "      print(\"El número mayor es;\", c)\n",
        "  else:\n",
        "    if b > c:\n",
        "      print(\"El número mayor es:\", b)\n",
        "    else:\n",
        "      print(\"El número mayor es:\", c)\n",
        "else:\n",
        "  print(\"Ingresa tres números diferentes\")"
      ],
      "metadata": {
        "colab": {
          "base_uri": "https://localhost:8080/"
        },
        "id": "aoE2XbvXk09v",
        "outputId": "224db3e3-372a-4fc7-a484-286f0e695c9d"
      },
      "execution_count": null,
      "outputs": [
        {
          "output_type": "stream",
          "name": "stdout",
          "text": [
            "Ingrese el primer número1\n",
            "Ingrese el segundo número3\n",
            "Ingrese el tercer número2\n",
            "El número mayor es: 3\n"
          ]
        }
      ]
    },
    {
      "cell_type": "markdown",
      "source": [
        "# Problema 15"
      ],
      "metadata": {
        "id": "uon8w725JfN7"
      }
    },
    {
      "cell_type": "code",
      "source": [
        "year = int(input(\"Ingresé un año\"))\n",
        "def bisiesto(year):\n",
        "  if year  % 4 == 0 and (year % 100 != 0 or year % 400 == 0):\n",
        "    return True\n",
        "  else:\n",
        "    return False\n",
        "print(bisiesto(year))"
      ],
      "metadata": {
        "colab": {
          "base_uri": "https://localhost:8080/"
        },
        "id": "mR_kA7M0ngvh",
        "outputId": "4b3d979c-6491-469b-9bdc-cd10e6cc08af"
      },
      "execution_count": null,
      "outputs": [
        {
          "output_type": "stream",
          "name": "stdout",
          "text": [
            "Ingresé un año2028\n",
            "True\n"
          ]
        }
      ]
    },
    {
      "cell_type": "markdown",
      "source": [
        "# Problema 16"
      ],
      "metadata": {
        "id": "8kyM02y1Jfim"
      }
    },
    {
      "cell_type": "code",
      "source": [
        "cadena = str(input(\"Ingresa una cadena de caracteres:\").lower())\n",
        "vocales = str(\"aeiouAEIOU\")\n",
        "a = 0\n",
        "b = 0\n",
        "for i in cadena:\n",
        "  if i in vocales:\n",
        "    a += 1\n",
        "  else:\n",
        "    b += 1\n",
        "print(f\"La cadena tiene {a} vocales\")\n",
        "print(f\"La cadena tiene {b} consonantes\")"
      ],
      "metadata": {
        "colab": {
          "base_uri": "https://localhost:8080/"
        },
        "id": "-CCLnl3Spgrj",
        "outputId": "e25356af-62c8-4e81-bb73-70597b2e07c2"
      },
      "execution_count": null,
      "outputs": [
        {
          "output_type": "stream",
          "name": "stdout",
          "text": [
            "Ingresa una cadena de caracteres:Vocales\n",
            "La cadena tiene 3 vocales\n",
            "La cadena tiene 4 consonantes\n"
          ]
        }
      ]
    },
    {
      "cell_type": "code",
      "source": [],
      "metadata": {
        "id": "4myudvnZxjC5"
      },
      "execution_count": null,
      "outputs": []
    },
    {
      "cell_type": "markdown",
      "source": [
        "# Problema 24"
      ],
      "metadata": {
        "id": "7EvQud7RJgI0"
      }
    },
    {
      "cell_type": "code",
      "source": [
        "a = int(input(\"Ingrese el primer número\"))\n",
        "b = int(input(\"Ingrese el segundo número\"))\n",
        "c = int(input(\"Ingrese el tercer número\"))\n",
        "d = int(input(\"Ingrese el cuarto número\"))\n",
        "serie = list [a, b, c, d]\n",
        "print(serie)\n",
        "if i in serie:\n",
        "  sum = a + b +c + d\n",
        "print(sum)"
      ],
      "metadata": {
        "colab": {
          "base_uri": "https://localhost:8080/"
        },
        "id": "CwLiUoqZyDIF",
        "outputId": "0226974b-f25e-4415-ad09-ccd4654d5960"
      },
      "execution_count": null,
      "outputs": [
        {
          "output_type": "stream",
          "name": "stdout",
          "text": [
            "Ingrese el primer número2\n",
            "Ingrese el segundo número4\n",
            "Ingrese el tercer número6\n",
            "Ingrese el cuarto número8\n",
            "list[2, 4, 6, 8]\n",
            "20\n"
          ]
        }
      ]
    },
    {
      "cell_type": "markdown",
      "source": [
        "# Problema 27"
      ],
      "metadata": {
        "id": "8nbxM57iJguU"
      }
    },
    {
      "cell_type": "code",
      "source": [
        "km= int(input(\"Ingresa la cantidad\"))\n",
        "millas = km_a_millas(km)\n",
        "def unidad_a_millas(km):\n",
        "  return km * 0.621371\n",
        "print(f\"{km} km son {millas:.2f} millas\")"
      ],
      "metadata": {
        "colab": {
          "base_uri": "https://localhost:8080/"
        },
        "id": "Tp6sx0AL8gaG",
        "outputId": "aa1e6930-a468-4da1-827c-729bebce66ca"
      },
      "execution_count": 100,
      "outputs": [
        {
          "output_type": "stream",
          "name": "stdout",
          "text": [
            "Ingresa la cantidad25\n",
            "25 km son 15.53 millas\n"
          ]
        }
      ]
    },
    {
      "cell_type": "markdown",
      "source": [
        "# Problema 48"
      ],
      "metadata": {
        "id": "zIvnsJNg_cNq"
      }
    },
    {
      "cell_type": "code",
      "source": [
        "import random\n",
        "prefijos = str(input(\"Ingrese un prefijo\"))\n",
        "sufijos = str(input(\"Ingrese un sufijo\"))\n",
        "def generar_nombre(nombre):\n",
        "  nombre = random.choice(prefijos) + random.choice(sufijos)\n",
        "print(f\"El nombre generado es {nombre}\")"
      ],
      "metadata": {
        "colab": {
          "base_uri": "https://localhost:8080/"
        },
        "id": "Tg3vgPMiF-sM",
        "outputId": "20443263-2e41-45bd-cfa1-f4cdca492b07"
      },
      "execution_count": 129,
      "outputs": [
        {
          "output_type": "stream",
          "name": "stdout",
          "text": [
            "Ingrese un prefijoMar\n",
            "Ingrese un sufijoar\n",
            "El nombre generado es ma\n"
          ]
        }
      ]
    }
  ]
}