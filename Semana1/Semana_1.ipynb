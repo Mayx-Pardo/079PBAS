{
  "nbformat": 4,
  "nbformat_minor": 0,
  "metadata": {
    "colab": {
      "provenance": [],
      "authorship_tag": "ABX9TyPClllhNGa/kaUE8nTuFMS/",
      "include_colab_link": true
    },
    "kernelspec": {
      "name": "python3",
      "display_name": "Python 3"
    },
    "language_info": {
      "name": "python"
    }
  },
  "cells": [
    {
      "cell_type": "markdown",
      "metadata": {
        "id": "view-in-github",
        "colab_type": "text"
      },
      "source": [
        "<a href=\"https://colab.research.google.com/github/Mayx-Pardo/079PBAS/blob/main/Semana1/Semana_1.ipynb\" target=\"_parent\"><img src=\"https://colab.research.google.com/assets/colab-badge.svg\" alt=\"Open In Colab\"/></a>"
      ]
    },
    {
      "cell_type": "code",
      "execution_count": null,
      "metadata": {
        "colab": {
          "base_uri": "https://localhost:8080/"
        },
        "id": "0ukgQTw435BP",
        "outputId": "38489a54-09a9-45dc-f2f3-f4bc6edddc49"
      },
      "outputs": [
        {
          "output_type": "stream",
          "name": "stdout",
          "text": [
            "hola mundo\n"
          ]
        }
      ],
      "source": [
        "print(\"Hola Mundo\")"
      ]
    },
    {
      "cell_type": "markdown",
      "source": [
        "1. ¿Cuál es la función de la memoria secundaria en una computadora?\n",
        "\n",
        "R= c) Almacenar información durante mucho tiempo, incluso después de ciclos de apagado\n",
        "y encendido.\n",
        "\n",
        "2. ¿Qué es un programa?\n",
        "\n",
        "R= Una secuencia de pasos diseñados para llevar a cabo una acción.\n",
        "\n",
        "3. ¿Cuál es la diferencia entre un copilador y un intérprete?\n",
        "\n",
        "R= El intérprete lee y ejecuta línea a línea el código fuente tal como el programador ha escrito, mientras que el copilador traduce el código fuente a un código máquina antes de su ejecución.\n",
        "4. ¿Cuál de los siguientes contiene \"código máquina\"?\n",
        "\n",
        "R= b) El teclado.\n",
        "\n",
        "5. ¿Qué está mal en el siguiente código?:\n",
        "\n",
        ">>>primt '¡Hola, mundo!'\n",
        "File \"< stdin >\", line 1\n",
        "primt '¡Hola, mundo!'\n",
        "^\n",
        "SyntaxError: invalid syntax\n",
        ">>>\n",
        "\n",
        "R= El nombre \"primt\" no está definido. La función \"imprimir\" está escrita de manera incorrecta, la manera correcta de escribirla es \"print()\" escribiendo el texto dentro de paréntesis.\n",
        "\n",
        "6. ¿En qué lugar del computador queda almacenada una variable, como en este caso “x”,\n",
        "después de ejecutar la siguiente línea de Python?:\n",
        "\n",
        "x = 123\n",
        "\n",
        "R= b)Memoria principal.\n",
        "\n",
        "7. ¿Qué mostrará en pantalla el siguiente programa?:\n",
        "\n",
        "x = 43\n",
        "\n",
        "x = x + 1\n",
        "\n",
        "print (x)\n",
        "\n",
        "R= b) 44.\n",
        "\n",
        "8. Explica cada uno de los siguientes conceptos usando un ejemplo de una capacidad\n",
        "humana:\n",
        "\n",
        "R=\n",
        "- Unidad central de procesamiento:\n",
        "Como su nombre lo indica procesa y almacena todas las funciones e información del equipo, al igual que el cerebro humano.\n",
        "- Memoria principal:\n",
        "Al almacenar información que puede perderse al apagarse el equipo, es comparable con  nuestra memoria temporal (memoria a corto plazo).\n",
        "- Memoria secundaria:\n",
        "De manera opuesta a la memoria principal, al almacenar información y lograr retenerla incluso después de apagarse el quipo es equiparable con nuestra memoria a largo plazo.\n",
        "- Dispositivos de entrada:\n",
        "Siendo que estos hacen referencia a la obtención de datos podríamos compararlo con los oídos y su capacidad de escucha.\n",
        "- Dispositivos de salida:\n",
        "Siendo la demostración de los resultados del procedimiento, se asemeja a la capacidad de habla para expresarse que nuestra boca posee.\n",
        "\n",
        "9. ¿Cómo puedes corregir un \"Error de sistaxis\"?\n",
        "\n",
        "R= Verificando que has escrito de manera correcta los códigos y funciones en Python, asegurandose de no haber violado ninguna de sus reglas gramaticales."
      ],
      "metadata": {
        "id": "FN4WRjIBPhx-"
      }
    }
  ]
}