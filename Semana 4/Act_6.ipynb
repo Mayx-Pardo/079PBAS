{
  "nbformat": 4,
  "nbformat_minor": 0,
  "metadata": {
    "colab": {
      "provenance": [],
      "authorship_tag": "ABX9TyMYI1/JgcklCO6tn1Xr5fzW",
      "include_colab_link": true
    },
    "kernelspec": {
      "name": "python3",
      "display_name": "Python 3"
    },
    "language_info": {
      "name": "python"
    }
  },
  "cells": [
    {
      "cell_type": "markdown",
      "metadata": {
        "id": "view-in-github",
        "colab_type": "text"
      },
      "source": [
        "<a href=\"https://colab.research.google.com/github/Mayx-Pardo/079PBAS/blob/main/Semana%204/Act_6.ipynb\" target=\"_parent\"><img src=\"https://colab.research.google.com/assets/colab-badge.svg\" alt=\"Open In Colab\"/></a>"
      ]
    },
    {
      "cell_type": "markdown",
      "source": [
        "# Problema 13"
      ],
      "metadata": {
        "id": "smBPt_6L1nn2"
      }
    },
    {
      "cell_type": "code",
      "source": [
        "c = float(input(\"Ingrese una temperatura en Celsius:\"))\n",
        "k = c + 273.15\n",
        "print(\"La temperatura en Kelvin es:\",str(k))\n",
        "f = (c * 9/5) + 32\n",
        "print(\"La temperatura en Fahrenhiet es:\", str(f))"
      ],
      "metadata": {
        "id": "H_CO0XD32ds7",
        "colab": {
          "base_uri": "https://localhost:8080/"
        },
        "outputId": "bfd505b9-f7c8-4e31-df98-5986269fd833"
      },
      "execution_count": 5,
      "outputs": [
        {
          "output_type": "stream",
          "name": "stdout",
          "text": [
            "Ingrese una temperatura en Celsius:32.98\n",
            "La temperatura en Kelvin es: 306.13\n",
            "La temperatura en Fahrenhiet es: 91.364\n"
          ]
        }
      ]
    },
    {
      "cell_type": "markdown",
      "source": [
        "# Problema 18"
      ],
      "metadata": {
        "id": "1kik-81R1oFQ"
      }
    },
    {
      "cell_type": "code",
      "source": [
        "import sympy as sp\n",
        "\n",
        "x = sp.Symbol('x')\n",
        "ecuacion = sp.Eq(x**2-4*x+4,0)\n",
        "resultado = sp.solve(ecuacion, x)\n",
        "print(resultado)"
      ],
      "metadata": {
        "colab": {
          "base_uri": "https://localhost:8080/"
        },
        "id": "meXHb-pNqlyy",
        "outputId": "77ece663-126e-46c9-d937-ebe35fd8eacc"
      },
      "execution_count": 18,
      "outputs": [
        {
          "output_type": "stream",
          "name": "stdout",
          "text": [
            "[2]\n"
          ]
        }
      ]
    },
    {
      "cell_type": "markdown",
      "source": [
        "# Problema 19"
      ],
      "metadata": {
        "id": "-Sjhxaxr1oXp"
      }
    },
    {
      "cell_type": "code",
      "source": [
        "import random\n",
        "\n",
        "a = int(input(\"Ingrese el número inicial:\"))\n",
        "b = int(input(\"Ingrse el número final:\"))\n",
        "c = int(input(\"Ingrese el número de saltos\"))\n",
        "num = random.randrange(a, b, c)\n",
        "print(\"El número aleatorio es:\", num)"
      ],
      "metadata": {
        "id": "PThNJOdx2iNH",
        "colab": {
          "base_uri": "https://localhost:8080/"
        },
        "outputId": "85d7088f-b48c-43d7-e961-ee2cd72ea1b1"
      },
      "execution_count": 27,
      "outputs": [
        {
          "output_type": "stream",
          "name": "stdout",
          "text": [
            "Ingrese el número inicial:2\n",
            "Ingrse el número final:9\n",
            "Ingrese el número de saltos2\n",
            "El número aleatorio es: 4\n"
          ]
        }
      ]
    },
    {
      "cell_type": "markdown",
      "source": [
        "# Problema 23"
      ],
      "metadata": {
        "id": "LhOItqbK1ool"
      }
    },
    {
      "cell_type": "code",
      "source": [
        "from sympy import *"
      ],
      "metadata": {
        "id": "ZEgVQO-n2iwb"
      },
      "execution_count": 28,
      "outputs": []
    },
    {
      "cell_type": "code",
      "source": [
        "a = int(input(\"Ingrese el valor de a:\"))\n",
        "b = int(input(\"Ingrese el valor de b:\"))\n",
        "c = int(input(\"Ingrese el valor de c:\"))\n",
        "d = int(input(\"Ingrese el valor de d:\"))\n",
        "e = int(input(\"Ingrese el valor de e:\"))\n",
        "f = int(input(\"Ingrese el valor de f:\"))\n",
        "g = int(input(\"Ingrese el valor de g:\"))\n",
        "h = int(input(\"Ingrese el valor de h:\"))\n",
        "A = Matrix([[a,b],[c,d]])\n",
        "B = Matrix([[e,f],[g,h]])\n",
        "print(A)\n",
        "print(B)"
      ],
      "metadata": {
        "colab": {
          "base_uri": "https://localhost:8080/"
        },
        "id": "ym2mIeepzGpl",
        "outputId": "f2e08e60-8514-4201-84a0-41577fe8285e"
      },
      "execution_count": 38,
      "outputs": [
        {
          "output_type": "stream",
          "name": "stdout",
          "text": [
            "Ingrese el valor de a:2\n",
            "Ingrese el valor de b:2\n",
            "Ingrese el valor de c:2\n",
            "Ingrese el valor de d:2\n",
            "Ingrese el valor de e:2\n",
            "Ingrese el valor de f:2\n",
            "Ingrese el valor de g:2\n",
            "Ingrese el valor de h:2\n",
            "Matrix([[2, 2], [2, 2]])\n",
            "Matrix([[2, 2], [2, 2]])\n"
          ]
        }
      ]
    },
    {
      "cell_type": "code",
      "source": [
        "C = A+B\n",
        "print(C)\n",
        "D = A-B\n",
        "print(D)\n",
        "E = A*B\n",
        "print(E)\n",
        "F = B*A\n",
        "print(F)"
      ],
      "metadata": {
        "colab": {
          "base_uri": "https://localhost:8080/"
        },
        "id": "q1s59ATp17Xz",
        "outputId": "cb8c3564-6d05-42eb-f540-0d172d0dd367"
      },
      "execution_count": 36,
      "outputs": [
        {
          "output_type": "stream",
          "name": "stdout",
          "text": [
            "Matrix([[4, 4], [4, 4]])\n",
            "Matrix([[0, 0], [0, 0]])\n",
            "Matrix([[8, 8], [8, 8]])\n",
            "Matrix([[8, 8], [8, 8]])\n"
          ]
        }
      ]
    },
    {
      "cell_type": "markdown",
      "source": [
        "# Problema 34"
      ],
      "metadata": {
        "id": "WTInBQ6x1o5D"
      }
    },
    {
      "cell_type": "code",
      "source": [
        "import numpy as np\n",
        "a = int(input(\"Ingrese el valor de a:\"))\n",
        "b = int(input(\"Ingrese el valor de b:\"))\n",
        "c = int(input(\"Ingrese el valor de c:\"))\n",
        "d = int(input(\"Ingrese el valor de d:\"))\n",
        "A = np.array([[a,b],[c,d]])\n",
        "print(A)"
      ],
      "metadata": {
        "colab": {
          "base_uri": "https://localhost:8080/"
        },
        "id": "pBn31rEK4dCu",
        "outputId": "197318ed-c902-4bbb-a368-4b6b6dd3c4bc"
      },
      "execution_count": 52,
      "outputs": [
        {
          "output_type": "stream",
          "name": "stdout",
          "text": [
            "Ingrese el valor de a:1\n",
            "Ingrese el valor de b:2\n",
            "Ingrese el valor de c:3\n",
            "Ingrese el valor de d:4\n",
            "[[1 2]\n",
            " [3 4]]\n"
          ]
        }
      ]
    },
    {
      "cell_type": "code",
      "source": [
        "B = np.linalg.inv(A)\n",
        "print(B)"
      ],
      "metadata": {
        "colab": {
          "base_uri": "https://localhost:8080/"
        },
        "id": "duL-Z7-07PVa",
        "outputId": "7efac603-e41d-40fe-958f-0f2718303311"
      },
      "execution_count": 53,
      "outputs": [
        {
          "output_type": "stream",
          "name": "stdout",
          "text": [
            "[[-2.   1. ]\n",
            " [ 1.5 -0.5]]\n"
          ]
        }
      ]
    },
    {
      "cell_type": "code",
      "source": [
        "# Comprobación\n",
        "C = A.dot(B)\n",
        "print(C)"
      ],
      "metadata": {
        "colab": {
          "base_uri": "https://localhost:8080/"
        },
        "id": "8thZyVj88yFg",
        "outputId": "58957f8c-8d04-463a-a1a4-1bab7c75f4cb"
      },
      "execution_count": 58,
      "outputs": [
        {
          "output_type": "stream",
          "name": "stdout",
          "text": [
            "[[1.0000000e+00 0.0000000e+00]\n",
            " [8.8817842e-16 1.0000000e+00]]\n"
          ]
        }
      ]
    },
    {
      "cell_type": "markdown",
      "source": [
        "# Problema 79"
      ],
      "metadata": {
        "id": "NfyrZGkh1pJ_"
      }
    },
    {
      "cell_type": "code",
      "source": [
        "preguntas = {\n",
        "    \"¿De qué color es el cielo en realidad?\": \"Violeta\",\n",
        "    \"¿Cuál es el mamífero más grande del mundo?\": \"La ballena azul\",\n",
        "    \"¿Cuántos días tiene un año?\": \"365\",\n",
        "}\n",
        "pts = 0\n",
        "for pregunta, respuesta in preguntas.items():\n",
        "    print(pregunta)\n",
        "    user_respuesta = str(input(\"Ingrese su respuesta\"))\n",
        "    if user_respuesta == respuesta:\n",
        "      print(\"¡Correcto!\")\n",
        "      pts = pts + 1\n",
        "    else:\n",
        "      print(\"¡Incorrecto!, la respesta correcta es: \", respuesta)\n",
        "print(f\"El juego ha finalizado, obtuviste {pts} puntos\")"
      ],
      "metadata": {
        "id": "Suup6EnB2lBe",
        "colab": {
          "base_uri": "https://localhost:8080/"
        },
        "outputId": "9a761c2a-7650-43bb-960b-d06500b3d391"
      },
      "execution_count": 63,
      "outputs": [
        {
          "output_type": "stream",
          "name": "stdout",
          "text": [
            "¿De qué color es el cielo en realidad?\n",
            "Ingrese su respuestaVioleta\n",
            "¡Correcto!\n",
            "¿Cuál es el mamífero más grande del mundo?\n",
            "Ingrese su respuestaLa ballena azul\n",
            "¡Correcto!\n",
            "¿Cuántos días tiene un año?\n",
            "Ingrese su respuesta365\n",
            "¡Correcto!\n",
            "El juego ha finalizado, obtuviste 3 puntos\n"
          ]
        }
      ]
    },
    {
      "cell_type": "markdown",
      "source": [
        "# Problema 82"
      ],
      "metadata": {
        "id": "8vt7k4KB1pbN"
      }
    },
    {
      "cell_type": "code",
      "source": [
        "import statistics\n",
        "from statistics import *\n",
        "d = []\n",
        "v = int(input(\"¿Cuántos valores desea ingresar?\"))\n",
        "for i in range(v):\n",
        "  num = int(input(\"Ingrese un valor: \"))\n",
        "  d.append(num)\n",
        "print(d)\n",
        "d.sort()\n",
        "print(d)"
      ],
      "metadata": {
        "id": "046bwAVL2lgx",
        "colab": {
          "base_uri": "https://localhost:8080/"
        },
        "outputId": "24d30258-fd17-4d16-a50b-0decfe68dad3"
      },
      "execution_count": 74,
      "outputs": [
        {
          "output_type": "stream",
          "name": "stdout",
          "text": [
            "¿Cuántos valores desea ingresar?5\n",
            "Ingrese un valor: 1\n",
            "Ingrese un valor: 2\n",
            "Ingrese un valor: 4\n",
            "Ingrese un valor: 4\n",
            "Ingrese un valor: 3\n",
            "[1, 2, 4, 4, 3]\n",
            "[1, 2, 3, 4, 4]\n"
          ]
        }
      ]
    },
    {
      "cell_type": "code",
      "source": [
        "print(\"La media es: \")\n",
        "print(mean(d))\n",
        "print(\"La moda es: \")\n",
        "print(mode(d))"
      ],
      "metadata": {
        "colab": {
          "base_uri": "https://localhost:8080/"
        },
        "id": "ORIGgghGG9SH",
        "outputId": "d91be08f-ef3d-4dc1-a607-545f2c36c657"
      },
      "execution_count": 75,
      "outputs": [
        {
          "output_type": "stream",
          "name": "stdout",
          "text": [
            "La media es: \n",
            "2.8\n",
            "La moda es: \n",
            "4\n"
          ]
        }
      ]
    },
    {
      "cell_type": "markdown",
      "source": [
        "# Problema 84"
      ],
      "metadata": {
        "id": "cjc4naZ11pt0"
      }
    },
    {
      "cell_type": "code",
      "source": [
        "def mcm(a, b, c, d):\n",
        "  e = max(a, b, c, d)\n",
        "  while True:\n",
        "    if (e % a == 0) and (e % b == 0) and (e % c == 0) and (e % d == 0):\n",
        "      return e\n",
        "    e += 1\n",
        "print(mcm(2, 4, 6, 8))"
      ],
      "metadata": {
        "id": "2cNkR-xa2mDZ",
        "colab": {
          "base_uri": "https://localhost:8080/"
        },
        "outputId": "29303bc9-8799-4a39-dc17-0c7fe5db250a"
      },
      "execution_count": 79,
      "outputs": [
        {
          "output_type": "stream",
          "name": "stdout",
          "text": [
            "24\n"
          ]
        }
      ]
    },
    {
      "cell_type": "markdown",
      "source": [
        "# Problema 86"
      ],
      "metadata": {
        "id": "9qn37STE1qCL"
      }
    },
    {
      "cell_type": "code",
      "source": [
        "a = int(input(\"Ingrese un número: \"))\n",
        "primo = True\n",
        "for i in range(2, a):\n",
        "  if (a%i == 0):\n",
        "    primo = False\n",
        "    break\n",
        "if (primo):\n",
        "  print(\"Es primo\")\n",
        "else:\n",
        "  print(\"No es primo\")"
      ],
      "metadata": {
        "id": "If7upiiq2m7w",
        "colab": {
          "base_uri": "https://localhost:8080/"
        },
        "outputId": "372760b5-2638-45c7-f362-69206dac219e"
      },
      "execution_count": 173,
      "outputs": [
        {
          "output_type": "stream",
          "name": "stdout",
          "text": [
            "Ingrese un número: 13\n",
            "Es primo\n"
          ]
        }
      ]
    },
    {
      "cell_type": "code",
      "source": [
        "def generar_primos(a):\n",
        "  primos = []\n",
        "  for i in range(2, a):\n",
        "    for j in range(2, i):\n",
        "      if (i%j == 0):\n",
        "        break\n",
        "      else:\n",
        "        primos.append(i)\n",
        "        break\n",
        "  return primos\n",
        "print(generar_primos(a))"
      ],
      "metadata": {
        "colab": {
          "base_uri": "https://localhost:8080/"
        },
        "id": "EVeSGxJkWjnR",
        "outputId": "4c6cf91a-5055-44ce-eebe-0ffcd8a3a568"
      },
      "execution_count": 174,
      "outputs": [
        {
          "output_type": "stream",
          "name": "stdout",
          "text": [
            "[3, 5, 7, 9, 11]\n"
          ]
        }
      ]
    }
  ]
}